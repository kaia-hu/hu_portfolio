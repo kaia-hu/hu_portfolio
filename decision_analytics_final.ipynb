{
 "cells": [
  {
   "cell_type": "markdown",
   "metadata": {},
   "source": [
    "## Decision Analytics Final Project\n",
    "### Question: What is the best combination of tourist attractions in NYC that a travel agency can put together in order to provide the best tour experience? \n",
    "#### Team Members: Megan, Jhanvi, Hannah, Kaia"
   ]
  },
  {
   "cell_type": "code",
   "execution_count": 1,
   "metadata": {},
   "outputs": [],
   "source": [
    "import numpy as np\n",
    "from gurobipy import *\n",
    "import pandas as pd\n",
    "import matplotlib.pyplot as plt"
   ]
  },
  {
   "cell_type": "code",
   "execution_count": null,
   "metadata": {},
   "outputs": [],
   "source": [
    "# prepare model parameters and sets\n",
    "\n",
    "# parameters\n",
    "p = [400, 500, 800, 1000] # subject to change when incorporating uncertainty here\n",
    "pr = np.genfromtxt('Pb1_prob.csv', delimiter=',', encoding='utf-8-sig')  # (1000,)\n",
    "d = np.genfromtxt('Pb1_D_stochastic.csv', delimiter=',', encoding='utf-8-sig')  # (4, 1000)\n",
    "\n",
    "# define index and sets\n",
    "scenario_set = range(len(pr))  # s, range(0, 1000)\n",
    "class_set = range(len(d[:, 0]))  # c, range(0, 4)"
   ]
  },
  {
   "cell_type": "code",
   "execution_count": null,
   "metadata": {},
   "outputs": [],
   "source": [
    "# initialize model\n",
    "\n",
    "model = Model()"
   ]
  },
  {
   "cell_type": "code",
   "execution_count": null,
   "metadata": {},
   "outputs": [],
   "source": [
    "# define the decision variables with their constraints\n",
    "\n",
    "a = model.addVars(class_set, lb=0, vtype=GRB.INTEGER)  # (40, 1) binary variables\n",
    "x = model.addVars(class_set, scenario_set, lb=0, vtype=GRB.INTEGER)  # (4, 1000) binary variables"
   ]
  },
  {
   "cell_type": "code",
   "execution_count": null,
   "metadata": {},
   "outputs": [],
   "source": [
    "# set up objective function\n",
    "\n",
    "pb1_objective = sum(pr[s]*sum(p[c]*x[c,s] for c in class_set) for s in scenario_set)\n",
    "model.setObjective((pb1_objective), GRB.MAXIMIZE)"
   ]
  },
  {
   "cell_type": "code",
   "execution_count": null,
   "metadata": {},
   "outputs": [],
   "source": [
    "# setup remaining constraints.\n",
    "\n",
    "# The total capacity of the aircraft cannot be gone over the 190 economy seats\n",
    "model.addConstr(a[0] + 1.2*a[1] + 1.5*a[2] + 2*a[3] <= 190)\n",
    "\n",
    "# The number of seats sold for each class c must not go over the assigned capacity a for all scenarios s\n",
    "for c in class_set:\n",
    "    for s in scenario_set:\n",
    "        model.addConstr(x[c,s] <= a[c])\n",
    "\n",
    "# The number of seats sold for each class c must not go over the demand for class c for all scenarios s\n",
    "for c in class_set:\n",
    "    for s in scenario_set:\n",
    "        model.addConstr(x[c,s] <= d[c,s])"
   ]
  },
  {
   "cell_type": "code",
   "execution_count": null,
   "metadata": {},
   "outputs": [],
   "source": [
    "# Solve the problem\n",
    "\n",
    "model.optimize()"
   ]
  },
  {
   "cell_type": "code",
   "execution_count": null,
   "metadata": {},
   "outputs": [],
   "source": [
    "\n",
    "# Parameters (example data, update based on your specific inputs)\n",
    "attractions = [\n",
    "    {\"id\": 1, \"cost\": 0, \"happiness\": 2, \"accessibility\": 1, \"family_friendly\": 1},  # Example: Central Park\n",
    "    {\"id\": 2, \"cost\": 33, \"happiness\": 3, \"accessibility\": 0, \"family_friendly\": 1},  # Example: 9/11 Memorial\n",
    "    # Add all attractions here with relevant attributes\n",
    "]\n",
    "\n",
    "budget = 200  # Total budget constraint\n",
    "max_duration = 8  # Maximum number of hours available for the tour\n",
    "travel_time = np.random.randint(1, 3, size=(len(attractions), len(attractions)))  # Travel time matrix (example)\n",
    "demographic_weights = [0.3, 0.4, 0.3]  # Example weights for demographic groups\n",
    "scenario_probabilities = [0.5, 0.5]  # Probabilities for scenarios (adjust as needed)\n",
    "\n",
    "# Initialize Model\n",
    "model = Model(\"NYC_Tour_Optimization\")\n",
    "\n",
    "# Decision Variables\n",
    "A = model.addVars(len(attractions), vtype=GRB.BINARY, name=\"A\")  # Binary decision for each attraction\n",
    "\n",
    "# Objective Function\n",
    "happiness_scores = [\n",
    "    demographic_weights[j] * scenario_probabilities[s] * attractions[i][\"happiness\"]\n",
    "    for i in range(len(attractions))\n",
    "    for j in range(len(demographic_weights))\n",
    "    for s in range(len(scenario_probabilities))\n",
    "]\n",
    "\n",
    "model.setObjective(quicksum(A[i] * happiness_scores[i] for i in range(len(attractions))), GRB.MAXIMIZE)\n",
    "\n",
    "# Constraints\n",
    "\n",
    "# Budget Constraint\n",
    "model.addConstr(quicksum(A[i] * attractions[i][\"cost\"] for i in range(len(attractions))) <= budget, \"Budget\")\n",
    "\n",
    "# Total Duration Constraint (tour cannot exceed available time)\n",
    "attraction_durations = [1.5 for _ in range(len(attractions))]  # Example durations for each attraction in hours\n",
    "model.addConstr(\n",
    "    quicksum(A[i] * attraction_durations[i] for i in range(len(attractions))) <= max_duration, \"Duration\"\n",
    ")\n",
    "\n",
    "# Accessibility Constraint (at least 80% of selected attractions must be accessible)\n",
    "model.addConstr(\n",
    "    quicksum(A[i] * attractions[i][\"accessibility\"] for i in range(len(attractions)))\n",
    "    >= 0.8 * quicksum(A[i] for i in range(len(attractions))),\n",
    "    \"Accessibility\"\n",
    ")\n",
    "\n",
    "# Family-Friendliness Constraint (at least 50% of selected attractions must be family-friendly)\n",
    "model.addConstr(\n",
    "    quicksum(A[i] * attractions[i][\"family_friendly\"] for i in range(len(attractions)))\n",
    "    >= 0.5 * quicksum(A[i] for i in range(len(attractions))),\n",
    "    \"Family_Friendly\"\n",
    ")\n",
    "\n",
    "# Pairwise Constraints (if one attraction is selected, another must also be selected)\n",
    "model.addConstr(A[0] + A[1] <= 1, \"Pairwise_Constraint\")  # Example: Cannot select both Central Park and 9/11 Memorial\n",
    "\n",
    "# Optimize\n",
    "model.optimize()\n",
    "\n",
    "# Print Results\n",
    "if model.status == GRB.OPTIMAL:\n",
    "    selected_attractions = [i for i in range(len(attractions)) if A[i].X > 0.5]\n",
    "    print(\"Optimal Attractions:\", selected_attractions)\n",
    "    print(\"Maximum Happiness:\", model.objVal)\n",
    "else:\n",
    "    print(\"No optimal solution found.\")\n"
   ]
  },
  {
   "cell_type": "code",
   "execution_count": null,
   "metadata": {},
   "outputs": [],
   "source": []
  },
  {
   "cell_type": "code",
   "execution_count": null,
   "metadata": {},
   "outputs": [],
   "source": []
  }
 ],
 "metadata": {
  "kernelspec": {
   "display_name": "base",
   "language": "python",
   "name": "python3"
  },
  "language_info": {
   "codemirror_mode": {
    "name": "ipython",
    "version": 3
   },
   "file_extension": ".py",
   "mimetype": "text/x-python",
   "name": "python",
   "nbconvert_exporter": "python",
   "pygments_lexer": "ipython3",
   "version": "3.11.7"
  }
 },
 "nbformat": 4,
 "nbformat_minor": 2
}
