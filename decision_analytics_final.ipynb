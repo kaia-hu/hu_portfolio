{
 "cells": [
  {
   "cell_type": "markdown",
   "metadata": {},
   "source": [
    "## Decision Analytics Final Project\n",
    "### Question: What is the best combination of tourist attractions in NYC that a travel agency can put together in order to provide the best tour experience? \n",
    "#### Team Members: Megan, Jhanvi, Hannah, Kaia"
   ]
  },
  {
   "cell_type": "code",
   "execution_count": 1,
   "metadata": {},
   "outputs": [],
   "source": [
    "import numpy as np\n",
    "from gurobipy import *\n",
    "import pandas as pd\n",
    "import matplotlib.pyplot as plt"
   ]
  },
  {
   "cell_type": "code",
   "execution_count": null,
   "metadata": {},
   "outputs": [],
   "source": [
    "# prepare model parameters and sets\n",
    "\n",
    "# parameters\n",
    "p = [400, 500, 800, 1000] # subject to change when incorporating uncertainty here\n",
    "pr = np.genfromtxt('Pb1_prob.csv', delimiter=',', encoding='utf-8-sig')  # (1000,)\n",
    "d = np.genfromtxt('Pb1_D_stochastic.csv', delimiter=',', encoding='utf-8-sig')  # (4, 1000)\n",
    "\n",
    "# define index and sets\n",
    "scenario_set = range(len(pr))  # s, range(0, 1000)\n",
    "class_set = range(len(d[:, 0]))  # c, range(0, 4)"
   ]
  },
  {
   "cell_type": "code",
   "execution_count": null,
   "metadata": {},
   "outputs": [],
   "source": [
    "# initialize model\n",
    "\n",
    "model = Model()"
   ]
  },
  {
   "cell_type": "code",
   "execution_count": null,
   "metadata": {},
   "outputs": [],
   "source": [
    "# define the decision variables with their constraints\n",
    "\n",
    "a = model.addVars(class_set, lb=0, vtype=GRB.INTEGER)  # (40, 1) binary variables\n",
    "x = model.addVars(class_set, scenario_set, lb=0, vtype=GRB.INTEGER)  # (4, 1000) binary variables"
   ]
  },
  {
   "cell_type": "code",
   "execution_count": null,
   "metadata": {},
   "outputs": [],
   "source": [
    "# set up objective function\n",
    "\n",
    "pb1_objective = sum(pr[s]*sum(p[c]*x[c,s] for c in class_set) for s in scenario_set)\n",
    "model.setObjective((pb1_objective), GRB.MAXIMIZE)"
   ]
  },
  {
   "cell_type": "code",
   "execution_count": null,
   "metadata": {},
   "outputs": [],
   "source": [
    "# setup remaining constraints.\n",
    "\n",
    "# The total capacity of the aircraft cannot be gone over the 190 economy seats\n",
    "model.addConstr(a[0] + 1.2*a[1] + 1.5*a[2] + 2*a[3] <= 190)\n",
    "\n",
    "# The number of seats sold for each class c must not go over the assigned capacity a for all scenarios s\n",
    "for c in class_set:\n",
    "    for s in scenario_set:\n",
    "        model.addConstr(x[c,s] <= a[c])\n",
    "\n",
    "# The number of seats sold for each class c must not go over the demand for class c for all scenarios s\n",
    "for c in class_set:\n",
    "    for s in scenario_set:\n",
    "        model.addConstr(x[c,s] <= d[c,s])"
   ]
  },
  {
   "cell_type": "code",
   "execution_count": null,
   "metadata": {},
   "outputs": [],
   "source": [
    "# Solve the problem\n",
    "\n",
    "model.optimize()"
   ]
  },
  {
   "cell_type": "code",
   "execution_count": null,
   "metadata": {},
   "outputs": [],
   "source": []
  },
  {
   "cell_type": "code",
   "execution_count": null,
   "metadata": {},
   "outputs": [],
   "source": []
  },
  {
   "cell_type": "code",
   "execution_count": null,
   "metadata": {},
   "outputs": [],
   "source": []
  }
 ],
 "metadata": {
  "kernelspec": {
   "display_name": "base",
   "language": "python",
   "name": "python3"
  },
  "language_info": {
   "codemirror_mode": {
    "name": "ipython",
    "version": 3
   },
   "file_extension": ".py",
   "mimetype": "text/x-python",
   "name": "python",
   "nbconvert_exporter": "python",
   "pygments_lexer": "ipython3",
   "version": "3.11.7"
  }
 },
 "nbformat": 4,
 "nbformat_minor": 2
}
