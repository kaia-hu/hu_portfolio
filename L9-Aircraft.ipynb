{
 "cells": [
  {
   "cell_type": "markdown",
   "metadata": {},
   "source": [
    "#"
   ]
  },
  {
   "cell_type": "markdown",
   "metadata": {},
   "source": [
    "> *Formulate this problem as a Stochastic Programming model. Make sure to specify the first-stage and second-stage decision variables, and to define the objective function and the constraints. Implement the model computationally.*"
   ]
  },
  {
   "cell_type": "markdown",
   "metadata": {},
   "source": [
    "First we will define the sets that are necessary for problem formulation. There are 2 sets considered:\n",
    "$$\n",
    "s = 1, 2, ..., 1000\\text{ (The index for scenarios of demand)}\n",
    "$$\n",
    "$$\n",
    "c = 1, 2, 3, 4\\text{ (The index for the class of seating, e.g. 1 = economy)}\n",
    "$$"
   ]
  },
  {
   "cell_type": "markdown",
   "metadata": {},
   "source": [
    "Next we will define the parameters in the problem\n",
    "$$\n",
    "p_{c} = \\text{The price of each seating class } c\n",
    "$$\n",
    "$$\n",
    "Pr_{s} = \\text{Probability of scenario } s\\text{ to occur}\n",
    "$$\n",
    "$$\n",
    "d_{cs} = \\text{demand for class } c \\text{ in scenario } s\n",
    "$$"
   ]
  },
  {
   "cell_type": "markdown",
   "metadata": {},
   "source": [
    "The decision variables of the problem are as follows. There are two decision variables, the first-stage decision variable $a_c$ and the second-stage decision variable $x_cs$\n",
    "$$\n",
    "a_{c} = \\text{The first-stage integer decision variable for seating class allocation}\n",
    "$$\n",
    "\n",
    "$$\n",
    "x_{cs} = \\text{The second-stage integer decision variable for how many seats in each class $c$ was sold in scenario }s\n",
    "$$"
   ]
  },
  {
   "cell_type": "markdown",
   "metadata": {},
   "source": [
    "The objective of this problem is to **maximize the expected future revenue**. The expected future revenue is the sum of the expected revenue for all 1000 scenarios revenue(s). In addition, revenue(s) is the sum of the revenue from selling seats in each class $c$. Thus, this is\n",
    "\\begin{equation}\n",
    "\\begin{split}\n",
    "&\\text{max} \\sum_{s=1}^{1000}E[\\text{revenue}(s)] \\\\\n",
    "&= \\text{max} \\sum_{s=1}^{1000}\\left(Pr_{s}\\cdot \\sum_{c=1}^{4}p_{c}x_{cs}\\right)\n",
    "\\end{split}\n",
    "\\end{equation}"
   ]
  },
  {
   "cell_type": "markdown",
   "metadata": {},
   "source": [
    "The maximization problem is subject to the following constraints\n",
    "\n",
    "1. The total capacity of the aircraft cannot be gone over the 190 economy seats.\n",
    "$$\n",
    "a_1 + 1.2a_2 + 1.5a_3 + 2a_4 \\leq 190\n",
    "$$\n",
    "2. The number of seats sold for each class $c$ must not go over the assigned capacity $a_c$ for all scenarios $s$\n",
    "$$\n",
    "x_{cs} \\leq a_{c} \\text{                 }\\forall c, s\n",
    "$$\n",
    "3. The number of seats sold for each class $c$ must not go over the demand for class $c$ for all scenarios $s$\n",
    "$$\n",
    "x_{cs} \\leq d_{cs} \\text{                 }\\forall c, s\n",
    "$$\n",
    "4. Decision variables are non-negative integers\n",
    "$$\n",
    "a_{c} \\geq 0 \\text{ }\\cap \\text{ $a_{c} \\in$ Z     } \\forall c\n",
    "$$\n",
    "$$\n",
    "x_{cs} \\geq 0 \\text{ }\\cap \\text{ $x_{cs} \\in$ Z      } \\forall c, s\n",
    "$$"
   ]
  },
  {
   "cell_type": "markdown",
   "metadata": {},
   "source": [
    "The computational implementation of the above follows"
   ]
  },
  {
   "cell_type": "code",
   "execution_count": 1,
   "metadata": {
    "pycharm": {
     "name": "#%%\n"
    }
   },
   "outputs": [],
   "source": [
    "# import necessary packages\n",
    "\n",
    "import numpy as np\n",
    "from gurobipy import *\n",
    "import pandas as pd\n",
    "import matplotlib.pyplot as plt"
   ]
  },
  {
   "cell_type": "code",
   "execution_count": 2,
   "metadata": {
    "pycharm": {
     "name": "#%%\n"
    }
   },
   "outputs": [],
   "source": [
    "# prepare model parameters and sets\n",
    "\n",
    "# parameters\n",
    "p = [400, 500, 800, 1000] # subject to change when incorporating uncertainty here\n",
    "pr = np.genfromtxt('Pb1_prob.csv', delimiter=',', encoding='utf-8-sig')  # (1000,)\n",
    "d = np.genfromtxt('Pb1_D_stochastic.csv', delimiter=',', encoding='utf-8-sig')  # (4, 1000)\n",
    "\n",
    "# define index and sets\n",
    "scenario_set = range(len(pr))  # s, range(0, 1000)\n",
    "class_set = range(len(d[:, 0]))  # c, range(0, 4)"
   ]
  },
  {
   "cell_type": "code",
   "execution_count": 3,
   "metadata": {
    "pycharm": {
     "name": "#%%\n"
    }
   },
   "outputs": [
    {
     "name": "stdout",
     "output_type": "stream",
     "text": [
      "Set parameter Username\n",
      "Academic license - for non-commercial use only - expires 2025-09-18\n"
     ]
    }
   ],
   "source": [
    "# initialize model\n",
    "\n",
    "model = Model()"
   ]
  },
  {
   "cell_type": "code",
   "execution_count": 4,
   "metadata": {
    "pycharm": {
     "name": "#%%\n"
    }
   },
   "outputs": [],
   "source": [
    "# define the decision variables with their constraints\n",
    "\n",
    "a = model.addVars(class_set, lb=0, vtype=GRB.INTEGER)  # (40, 1) binary variables\n",
    "x = model.addVars(class_set, scenario_set, lb=0, vtype=GRB.INTEGER)  # (4, 1000) binary variables"
   ]
  },
  {
   "cell_type": "code",
   "execution_count": 5,
   "metadata": {
    "pycharm": {
     "name": "#%%\n"
    }
   },
   "outputs": [],
   "source": [
    "# set up objective function\n",
    "\n",
    "pb1_objective = sum(pr[s]*sum(p[c]*x[c,s] for c in class_set) for s in scenario_set)\n",
    "model.setObjective((pb1_objective), GRB.MAXIMIZE)"
   ]
  },
  {
   "cell_type": "code",
   "execution_count": 6,
   "metadata": {
    "pycharm": {
     "name": "#%%\n"
    }
   },
   "outputs": [],
   "source": [
    "# setup remaining constraints.\n",
    "\n",
    "# The total capacity of the aircraft cannot be gone over the 190 economy seats\n",
    "model.addConstr(a[0] + 1.2*a[1] + 1.5*a[2] + 2*a[3] <= 190)\n",
    "\n",
    "# The number of seats sold for each class c must not go over the assigned capacity a for all scenarios s\n",
    "for c in class_set:\n",
    "    for s in scenario_set:\n",
    "        model.addConstr(x[c,s] <= a[c])\n",
    "\n",
    "# The number of seats sold for each class c must not go over the demand for class c for all scenarios s\n",
    "for c in class_set:\n",
    "    for s in scenario_set:\n",
    "        model.addConstr(x[c,s] <= d[c,s])"
   ]
  },
  {
   "cell_type": "code",
   "execution_count": 7,
   "metadata": {
    "pycharm": {
     "name": "#%%\n"
    }
   },
   "outputs": [
    {
     "name": "stdout",
     "output_type": "stream",
     "text": [
      "Gurobi Optimizer version 11.0.3 build v11.0.3rc0 (mac64[rosetta2] - Darwin 23.4.0 23E224)\n",
      "\n",
      "CPU model: Apple M1 Pro\n",
      "Thread count: 10 physical cores, 10 logical processors, using up to 10 threads\n",
      "\n",
      "Optimize a model with 8001 rows, 4004 columns and 12004 nonzeros\n",
      "Model fingerprint: 0xeb4a9038\n",
      "Variable types: 0 continuous, 4004 integer (0 binary)\n",
      "Coefficient statistics:\n",
      "  Matrix range     [1e+00, 2e+00]\n",
      "  Objective range  [3e-04, 2e+00]\n",
      "  Bounds range     [0e+00, 0e+00]\n",
      "  RHS range        [1e+00, 2e+02]\n",
      "Found heuristic solution: objective -0.0000000\n",
      "Presolve removed 4888 rows and 888 columns\n",
      "Presolve time: 0.02s\n",
      "Presolved: 3113 rows, 3116 columns, 6228 nonzeros\n",
      "Found heuristic solution: objective 70934.659397\n",
      "Variable types: 0 continuous, 3116 integer (239 binary)\n",
      "\n",
      "Root relaxation: objective 7.564067e+04, 2640 iterations, 0.07 seconds (0.21 work units)\n",
      "\n",
      "    Nodes    |    Current Node    |     Objective Bounds      |     Work\n",
      " Expl Unexpl |  Obj  Depth IntInf | Incumbent    BestBd   Gap | It/Node Time\n",
      "\n",
      "     0     0 75640.6736    0  736 70934.6594 75640.6736  6.63%     -    0s\n",
      "H    0     0                    75636.129794 75640.6736  0.01%     -    0s\n",
      "\n",
      "Explored 1 nodes (2640 simplex iterations) in 0.13 seconds (0.25 work units)\n",
      "Thread count was 10 (of 10 available processors)\n",
      "\n",
      "Solution count 3: 75636.1 70934.7 -0 \n",
      "\n",
      "Optimal solution found (tolerance 1.00e-04)\n",
      "Best objective 7.563612979359e+04, best bound 7.564067356468e+04, gap 0.0060%\n"
     ]
    }
   ],
   "source": [
    "# Solve the problem\n",
    "\n",
    "model.optimize()"
   ]
  },
  {
   "cell_type": "markdown",
   "metadata": {},
   "source": [
    "#"
   ]
  },
  {
   "cell_type": "markdown",
   "metadata": {},
   "source": [
    "> *Characterize the optimal solution, and the intuition behind it. You may find useful to compute the average demand across all 1,000 scenarios*"
   ]
  },
  {
   "cell_type": "markdown",
   "metadata": {},
   "source": [
    "The Key metrics from the optimal solution is as follows"
   ]
  },
  {
   "cell_type": "code",
   "execution_count": 8,
   "metadata": {
    "pycharm": {
     "name": "#%%\n"
    }
   },
   "outputs": [
    {
     "name": "stdout",
     "output_type": "stream",
     "text": [
      "The objective value is: $75636.12979359292 \n",
      "\n",
      "optimal seating allocation\n",
      " economy: 164.0seats \n",
      " economy+: 15.0seats \n",
      " business: 4.0seats \n",
      " first: 1.0seats \n",
      "\n",
      "The average demand for all scenarios\n",
      " economy: 180.786seats \n",
      " economy+: 19.558seats \n",
      " business: 6.202seats \n",
      " first: 2.017seats \n",
      "\n"
     ]
    }
   ],
   "source": [
    "# objective value\n",
    "print(\"The objective value is: ${} \\n\".format(model.ObjVal))\n",
    "\n",
    "# The optimal seating class allocation\n",
    "print(\"optimal seating allocation\")\n",
    "print(\" economy: {}seats \\n economy+: {}seats \\n business: {}seats \\n first: {}seats \\n\".format(a[0].x, a[1].x, a[2].x, a[3].x))\n",
    "\n",
    "# The average demand across all scenarios\n",
    "print(\"The average demand for all scenarios\")\n",
    "print(\" economy: {}seats \\n economy+: {}seats \\n business: {}seats \\n first: {}seats \\n\".format(np.mean(d[0, :]), np.mean(d[1, :]), np.mean(d[2, :]), np.mean(d[3, :])))"
   ]
  },
  {
   "cell_type": "markdown",
   "metadata": {},
   "source": [
    "Since the optimization here is maximizing the expected value across all scenarios, this could be thought as a *strategy to make most of the average case scenario*. This could be confirmed by comparing the optimal seating allocation and the average seating demand, both which are shown above. It could be confirmed that the two are fairly similar. If we were to take a probability wighted average of the demand scenarios the numbers are expected to be even closer."
   ]
  },
  {
   "cell_type": "markdown",
   "metadata": {},
   "source": [
    "#"
   ]
  },
  {
   "cell_type": "markdown",
   "metadata": {
    "pycharm": {
     "name": "#%% md\n"
    }
   },
   "source": [
    "> *For each seat category, in how many scenarios did you sell fewer seats than the demand, and in how many scenarios did you have excess capacity? Comment briefly.*"
   ]
  },
  {
   "cell_type": "markdown",
   "metadata": {},
   "source": [
    "We will find such instances using the following code"
   ]
  },
  {
   "cell_type": "code",
   "execution_count": 9,
   "metadata": {
    "pycharm": {
     "name": "#%%\n"
    }
   },
   "outputs": [
    {
     "name": "stdout",
     "output_type": "stream",
     "text": [
      "scenarios where we under served demand\n",
      " economy: 815scenarios \n",
      " economy+: 731scenarios \n",
      " business: 575scenarios \n",
      " first: 502scenarios \n",
      "\n",
      "scenarios where we had excess capacity\n",
      " economy: 174scenarios \n",
      " economy+: 211scenarios \n",
      " business: 319scenarios \n",
      " first: 224scenarios \n",
      "\n"
     ]
    }
   ],
   "source": [
    "# scenarios where we sold fewer seats than demand\n",
    "under_serve_e = 0\n",
    "under_serve_eplus = 0\n",
    "under_serve_b = 0\n",
    "under_serve_f = 0\n",
    "for s in scenario_set:\n",
    "    for c in class_set:\n",
    "        if x[c,s].x < d[c,s]:\n",
    "            if c == 0:\n",
    "                    under_serve_e += 1\n",
    "            if c == 1:\n",
    "                    under_serve_eplus += 1\n",
    "            if c == 2:\n",
    "                    under_serve_b += 1\n",
    "            if c == 3:\n",
    "                    under_serve_f += 1\n",
    "print(\"scenarios where we under served demand\")\n",
    "print(\" economy: {}scenarios \\n economy+: {}scenarios \\n business: {}scenarios \\n first: {}scenarios \\n\".format(\n",
    "    under_serve_e, under_serve_eplus, under_serve_b, under_serve_f))\n",
    "\n",
    "# scenarios where we had excess capacity\n",
    "over_cap_e = 0\n",
    "over_cap_eplus = 0\n",
    "over_cap_b = 0\n",
    "over_cap_f = 0\n",
    "for s in scenario_set:\n",
    "    for c in class_set:\n",
    "        if d[c,s] < a[c].x:\n",
    "            if c == 0:\n",
    "                over_cap_e += 1\n",
    "            if c == 1:\n",
    "                over_cap_eplus += 1\n",
    "            if c == 2:\n",
    "                over_cap_b += 1\n",
    "            if c == 3:\n",
    "                over_cap_f += 1\n",
    "print(\"scenarios where we had excess capacity\")\n",
    "print(\" economy: {}scenarios \\n economy+: {}scenarios \\n business: {}scenarios \\n first: {}scenarios \\n\".format(\n",
    "    over_cap_e, over_cap_eplus, over_cap_b, over_cap_f))\n"
   ]
  },
  {
   "cell_type": "markdown",
   "metadata": {},
   "source": [
    "The results show that the optimal strategy is heavily biased towards limiting excess capacity and trying to have many packed flights. it could be seen that filling all the economy and economy+ seats are key to achieving large profits."
   ]
  },
  {
   "cell_type": "markdown",
   "metadata": {},
   "source": [
    "#"
   ]
  },
  {
   "cell_type": "markdown",
   "metadata": {},
   "source": [
    "> *You are worried that the entry of a low-cost airline will affect prices for the highest classes, and aim to also capture fare uncertainty into your model. You assume that the fares of the four classes will be 400, 500, 800 and 1,000 dollars with 40% probability, 400, 500, 600 and 700 dollars with 30% probability, and 400, 420, 600 and 700 dollars with 30% probability. Demand and price uncertainties are independent.*"
   ]
  },
  {
   "cell_type": "markdown",
   "metadata": {},
   "source": [
    "> *Define the scenarios and their probabilities carefully. Formulate this problem as a Stochastic Programming model. Implement it computationally.*"
   ]
  },
  {
   "cell_type": "markdown",
   "metadata": {},
   "source": [
    "With the addition of the 3 uncertainty scenarios in the prices, we now have $1000\\times 3 = 3000$ scenarios to consider. Since we assume that the demand and price uncertainties are independent, the probability of each of the 3000 scenarios to occur is the product of the probability of the demand uncertainty and the price uncertainty. Hence, the basic formulation does not change except the addition of another dimension of $n$ for probability $pr$, the price $p$, demand $d$ and decision variable $x$ that now depends on the pricing scenario. If we introduce the set $n$ to represent the set of the new price scenarios the formulation is as follows."
   ]
  },
  {
   "cell_type": "markdown",
   "metadata": {},
   "source": [
    "The new sets considered are\n",
    "$$\n",
    "s = 1, 2, ..., 1000\\text{ (The index for scenarios of demand)}\n",
    "$$\n",
    "$$\n",
    "c = 1, 2, 3, 4\\text{ (The index for the class of seatings, e.g. 1 = economy)}\n",
    "$$\n",
    "$$\n",
    "n = 1, 2, 3\\text{ (The index for scenarios of price)}\n",
    "$$\n"
   ]
  },
  {
   "cell_type": "markdown",
   "metadata": {},
   "source": [
    "The new parameters in the problem are\n",
    "$$\n",
    "p_{cn} = \\text{The price of each seating class } c depending on the price scenario $n$\n",
    "$$\n",
    "$$\n",
    "Pr_{sn} = \\text{Probability of scenario } s\\text{ and $n$ to occur at the same time}\n",
    "$$\n",
    "$$\n",
    "d_{cs} = \\text{demand for class } c \\text{ in scenario } s\n",
    "$$"
   ]
  },
  {
   "cell_type": "markdown",
   "metadata": {},
   "source": [
    "The new decision variables of the problem are as follows.\n",
    "$$\n",
    "a_{c} = \\text{The first-stage integer decision variable for seating class allocation}\n",
    "$$\n",
    "\n",
    "$$\n",
    "x_{csn} = \\text{The second-stage integer decision variable for how many seats in each class $c$ was sold in scenario }s\\text{ and $n$ occurring at the same time}\n",
    "$$"
   ]
  },
  {
   "cell_type": "markdown",
   "metadata": {},
   "source": [
    "The objective of this problem is the same as in the above problem and to **maximize the expected future revenue**. Thus, with the updated variables above this is\n",
    "$$\n",
    "\\text{max} \\sum_{n=1}^{3}\\sum_{s=1}^{1000}\\left(Pr_{sn}\\cdot \\sum_{c=1}^{4}p_{cn}x_{csn}\\right)\n",
    "$$"
   ]
  },
  {
   "cell_type": "markdown",
   "metadata": {},
   "source": [
    "The new constraints are as follows\n",
    "\n",
    "1. The total capacity of the aircraft cannot be gone over the 190 economy seats.\n",
    "$$\n",
    "a_1 + 1.2a_2 + 1.5a_3 + 2a_4 \\leq 190\n",
    "$$\n",
    "2. The number of seats sold for each class $c$ must not go over the assigned capacity $a_c$ for all scenarios $s$\n",
    "$$\n",
    "x_{csn} \\leq a_{c} \\text{                 }\\forall c, s, n\n",
    "$$\n",
    "3. The number of seats sold for each class $c$ must not go over the demand for class $c$ for all scenarios $s$\n",
    "$$\n",
    "x_{csn} \\leq d_{cs} \\text{                 }\\forall c, s, n\n",
    "$$\n",
    "4. Decision variables are non-negative integers\n",
    "$$\n",
    "a_{c} \\geq 0 \\text{ }\\cap \\text{ $a_{c} \\in$ Z     } \\forall c\n",
    "$$\n",
    "$$\n",
    "x_{csn} \\geq 0 \\text{ }\\cap \\text{ $x_{csn} \\in$ Z      } \\forall c, s, n\n",
    "$$"
   ]
  },
  {
   "cell_type": "markdown",
   "metadata": {},
   "source": [
    "Now we will implement this in code."
   ]
  },
  {
   "cell_type": "code",
   "execution_count": 10,
   "metadata": {
    "pycharm": {
     "name": "#%%\n"
    }
   },
   "outputs": [],
   "source": [
    "# prepare model parameters and sets\n",
    "\n",
    "# parameters\n",
    "p = np.array([[400, 400, 400], [500, 500, 420], [800, 600, 600], [1000, 700, 700]])\n",
    "d = np.genfromtxt('Pb1_D_stochastic.csv', delimiter=',', encoding='utf-8-sig')  # (4, 1000)\n",
    "pr = np.genfromtxt('Pb1_prob.csv', delimiter=',', encoding='utf-8-sig')  # (1000,)\n",
    "pr_1 = pr*0.4\n",
    "pr_2 = pr*0.3\n",
    "pr_3 = pr*0.3\n",
    "pr = np.array([pr_1, pr_2, pr_3]).T  # new pr, (1000, 3)\n",
    "\n",
    "# define index and sets\n",
    "scenario_set = range(len(pr))  # s, range(0, 1000)\n",
    "class_set = range(len(d[:, 0]))  # c, range(0, 4)\n",
    "price_set = range(3)  # n, range(0, 3)"
   ]
  },
  {
   "cell_type": "code",
   "execution_count": 11,
   "metadata": {
    "pycharm": {
     "name": "#%%\n"
    }
   },
   "outputs": [],
   "source": [
    "# initialize model\n",
    "\n",
    "model = Model()"
   ]
  },
  {
   "cell_type": "code",
   "execution_count": 12,
   "metadata": {
    "pycharm": {
     "name": "#%%\n"
    }
   },
   "outputs": [],
   "source": [
    "# define the decision variables with their constraints\n",
    "\n",
    "a = model.addVars(class_set, lb=0, vtype=GRB.INTEGER)  # (40, 1) binary variables\n",
    "x = model.addVars(class_set, scenario_set, price_set,  lb=0, vtype=GRB.INTEGER)  # (4, 1000, 3) binary variables"
   ]
  },
  {
   "cell_type": "code",
   "execution_count": 13,
   "metadata": {
    "pycharm": {
     "name": "#%%\n"
    }
   },
   "outputs": [],
   "source": [
    "# set up objective function\n",
    "\n",
    "pb2_objective = sum(sum(pr[s,n]*sum(p[c,n]*x[c,s,n] for c in class_set) for s in scenario_set) for n in price_set)\n",
    "model.setObjective((pb2_objective), GRB.MAXIMIZE)"
   ]
  },
  {
   "cell_type": "code",
   "execution_count": 14,
   "metadata": {
    "pycharm": {
     "name": "#%%\n"
    }
   },
   "outputs": [],
   "source": [
    "# setup remaining constraints.\n",
    "\n",
    "# The total capacity of the aircraft cannot be gone over the 190 economy seats\n",
    "model.addConstr(a[0] + 1.2 * a[1] + 1.5 * a[2] + 2 * a[3] <= 190)\n",
    "\n",
    "# The number of seats sold for each class c must not go over the assigned capacity a for all scenarios s, n\n",
    "for n in price_set:\n",
    "    for c in class_set:\n",
    "        for s in scenario_set:\n",
    "            model.addConstr(x[c,s,n] <= a[c])\n",
    "\n",
    "# The number of seats sold for each class c must not go over the demand for class c for all scenarios s, n\n",
    "for n in price_set:\n",
    "    for c in class_set:\n",
    "        for s in scenario_set:\n",
    "            model.addConstr(x[c,s,n] <= d[c,s])"
   ]
  },
  {
   "cell_type": "code",
   "execution_count": 15,
   "metadata": {
    "pycharm": {
     "name": "#%%\n"
    }
   },
   "outputs": [
    {
     "name": "stdout",
     "output_type": "stream",
     "text": [
      "Gurobi Optimizer version 11.0.3 build v11.0.3rc0 (mac64[rosetta2] - Darwin 23.4.0 23E224)\n",
      "\n",
      "CPU model: Apple M1 Pro\n",
      "Thread count: 10 physical cores, 10 logical processors, using up to 10 threads\n",
      "\n",
      "Optimize a model with 24001 rows, 12004 columns and 36004 nonzeros\n",
      "Model fingerprint: 0xedea5c74\n",
      "Variable types: 0 continuous, 12004 integer (0 binary)\n",
      "Coefficient statistics:\n",
      "  Matrix range     [1e+00, 2e+00]\n",
      "  Objective range  [1e-04, 8e-01]\n",
      "  Bounds range     [0e+00, 0e+00]\n",
      "  RHS range        [1e+00, 2e+02]\n",
      "Found heuristic solution: objective -0.0000000\n",
      "Presolve removed 16855 rows and 4855 columns\n",
      "Presolve time: 0.06s\n",
      "Presolved: 7146 rows, 7149 columns, 14294 nonzeros\n",
      "Found heuristic solution: objective 70934.659397\n",
      "Variable types: 0 continuous, 7149 integer (475 binary)\n",
      "\n",
      "Root relaxation: objective 7.477592e+04, 4532 iterations, 0.17 seconds (0.41 work units)\n",
      "\n",
      "    Nodes    |    Current Node    |     Objective Bounds      |     Work\n",
      " Expl Unexpl |  Obj  Depth IntInf | Incumbent    BestBd   Gap | It/Node Time\n",
      "\n",
      "     0     0 74775.9215    0  894 70934.6594 74775.9215  5.42%     -    0s\n",
      "H    0     0                    74554.936427 74775.9215  0.30%     -    0s\n",
      "H    0     0                    74701.330721 74775.9215  0.10%     -    0s\n",
      "     0     0 74775.6349    0  895 74701.3307 74775.6349  0.10%     -    0s\n",
      "     0     0 74775.5014    0  896 74701.3307 74775.5014  0.10%     -    0s\n",
      "     0     0 74775.2770    0  897 74701.3307 74775.2770  0.10%     -    0s\n",
      "     0     0 74775.2194    0  898 74701.3307 74775.2194  0.10%     -    0s\n",
      "     0     0 74774.6278    0  899 74701.3307 74774.6278  0.10%     -    0s\n",
      "     0     0 74774.6005    0  899 74701.3307 74774.6005  0.10%     -    0s\n",
      "     0     0 74774.5459    0  899 74701.3307 74774.5459  0.10%     -    0s\n",
      "     0     0 74774.4139    0  900 74701.3307 74774.4139  0.10%     -    0s\n",
      "H    0     0                    74743.600432 74774.3857  0.04%     -    0s\n",
      "     0     0 74774.1741    0  901 74743.6004 74774.1741  0.04%     -    0s\n",
      "     0     0 74774.0019    0  902 74743.6004 74774.0019  0.04%     -    0s\n",
      "     0     0 74773.9384    0  903 74743.6004 74773.9384  0.04%     -    0s\n",
      "     0     0 74773.6520    0  904 74743.6004 74773.6520  0.04%     -    0s\n",
      "     0     0 74773.5733    0  905 74743.6004 74773.5733  0.04%     -    0s\n",
      "     0     0 74773.5607    0  905 74743.6004 74773.5607  0.04%     -    0s\n",
      "     0     0 74773.4730    0  905 74743.6004 74773.4730  0.04%     -    0s\n",
      "     0     0 74773.4591    0  905 74743.6004 74773.4591  0.04%     -    0s\n",
      "     0     0 74773.4451    0  905 74743.6004 74773.4451  0.04%     -    0s\n",
      "     0     0 74773.4348    0  906 74743.6004 74773.4348  0.04%     -    0s\n",
      "     0     0 74773.3498    0  907 74743.6004 74773.3498  0.04%     -    0s\n",
      "     0     0 74773.3381    0  908 74743.6004 74773.3381  0.04%     -    0s\n",
      "     0     0 74773.2234    0  909 74743.6004 74773.2234  0.04%     -    0s\n",
      "     0     0 74772.9282    0  910 74743.6004 74772.9282  0.04%     -    0s\n",
      "     0     0 74772.9256    0  911 74743.6004 74772.9256  0.04%     -    0s\n",
      "     0     0 74772.8289    0  911 74743.6004 74772.8289  0.04%     -    0s\n",
      "H    0     0                    74765.166670 74772.8048  0.01%     -    0s\n",
      "     0     0 74772.6659    0  912 74765.1667 74772.6659  0.01%     -    0s\n",
      "     0     0 74772.6600    0  913 74765.1667 74772.6600  0.01%     -    0s\n",
      "     0     0          -    0      74765.1667 74772.4503  0.01%     -    0s\n",
      "\n",
      "Cutting planes:\n",
      "  Gomory: 5\n",
      "  MIR: 10\n",
      "  StrongCG: 4\n",
      "  Zero half: 2\n",
      "\n",
      "Explored 1 nodes (4576 simplex iterations) in 0.82 seconds (0.89 work units)\n",
      "Thread count was 10 (of 10 available processors)\n",
      "\n",
      "Solution count 6: 74765.2 74743.6 74701.3 ... -0\n",
      "\n",
      "Optimal solution found (tolerance 1.00e-04)\n",
      "Best objective 7.476516667000e+04, best bound 7.477245030177e+04, gap 0.0097%\n"
     ]
    }
   ],
   "source": [
    "# Solve the problem\n",
    "\n",
    "model.optimize()"
   ]
  },
  {
   "cell_type": "markdown",
   "metadata": {},
   "source": [
    "#"
   ]
  },
  {
   "cell_type": "markdown",
   "metadata": {
    "pycharm": {
     "name": "#%% md\n"
    }
   },
   "source": [
    "> *How many seats did you allocate to each category? Please compare with the solution from the previous model, and comment briefly.*"
   ]
  },
  {
   "cell_type": "code",
   "execution_count": 16,
   "metadata": {
    "pycharm": {
     "name": "#%%\n"
    }
   },
   "outputs": [
    {
     "name": "stdout",
     "output_type": "stream",
     "text": [
      "The objective value is: $74765.16666999667 \n",
      "\n",
      "optimal seating allocation\n",
      " economy: 166.0seats \n",
      " economy+: 15.0seats \n",
      " business: 4.0seats \n",
      " first: 0.0seats \n",
      "\n",
      "previous optimal seating allocation\n",
      " economy: 164seats \n",
      " economy+: 15seats \n",
      " business: 4seats \n",
      " first: 1seats \n",
      "\n"
     ]
    }
   ],
   "source": [
    "# report objective value etc.\n",
    "\n",
    "print(\"The objective value is: ${} \\n\".format(model.ObjVal))\n",
    "\n",
    "# The optimal seating class allocation\n",
    "print(\"optimal seating allocation\")\n",
    "print(\" economy: {}seats \\n economy+: {}seats \\n business: {}seats \\n first: {}seats \\n\".format(a[0].x, a[1].x, a[2].x, a[3].x))\n",
    "\n",
    "# previous optimal allocation\n",
    "print(\"previous optimal seating allocation\")\n",
    "print(\" economy: {}seats \\n economy+: {}seats \\n business: {}seats \\n first: {}seats \\n\".format(164, 15, 4, 1))"
   ]
  },
  {
   "cell_type": "markdown",
   "metadata": {},
   "source": [
    "We can see that the optimal seating allocation hardly changes (A first class changed to 2 economy seats). This means that the original seating allocation is a fairly good allocation even in a situation we consider ticket price volatility."
   ]
  }
 ],
 "metadata": {
  "kernelspec": {
   "display_name": "Python 3",
   "language": "python",
   "name": "python3"
  },
  "language_info": {
   "codemirror_mode": {
    "name": "ipython",
    "version": 3
   },
   "file_extension": ".py",
   "mimetype": "text/x-python",
   "name": "python",
   "nbconvert_exporter": "python",
   "pygments_lexer": "ipython3",
   "version": "3.8.8"
  }
 },
 "nbformat": 4,
 "nbformat_minor": 1
}
